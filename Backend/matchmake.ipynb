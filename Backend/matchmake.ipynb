{
 "cells": [
  {
   "cell_type": "code",
   "execution_count": 8,
   "metadata": {},
   "outputs": [],
   "source": [
    "import tensorflow as tf\n",
    "import pandas as pd\n",
    "import numpy as np\n",
    "import matplotlib.pyplot as plt"
   ]
  },
  {
   "cell_type": "code",
   "execution_count": 9,
   "metadata": {},
   "outputs": [],
   "source": [
    "class User:\n",
    "    age = 0\n",
    "    name = \"\"\n",
    "    graphIndex = 0\n",
    "    #location = [];#list of string, and integer \n",
    "    friends = [] #list of users\n",
    "    #preferences = []; #list of strings, each string is a preference\n",
    "    \n",
    "    def __init__(self, a, n): #create a user\n",
    "        self.age = a\n",
    "        self.name = n\n",
    "        #self.location = b\n",
    "        #self.preferences = b\n",
    "        \n",
    "    def addFriend(friend): #add a friend\n",
    "        friends.append(friend)\n",
    "        \n",
    "    def setGraphIndex(i):\n",
    "        graphIndex = i\n",
    "        \n",
    "    def areLinked(u):\n",
    "        pass"
   ]
  },
  {
   "cell_type": "code",
   "execution_count": 10,
   "metadata": {},
   "outputs": [],
   "source": [
    "class UserGraph:\n",
    "    users = []\n",
    "    adj = []\n",
    "    \n",
    "    def __init__(self, use):\n",
    "        self.users = use\n",
    "        for i in range (len(use)):\n",
    "            use[i].setGraphIndex(i)\n",
    "            adj.append([])\n",
    "        #create adjacency matrix\n",
    "        for i in range (len(use)):\n",
    "            user = use[i]\n",
    "            for j in range(len(use)):\n",
    "                if(use[i].areLinked(use[j])):\n",
    "                    adj[i].append(use[j])\n",
    "                    adj[j].append(use[i])\n",
    "                \n",
    "    def addUser(u):\n",
    "        u.setGraphIndex(len(users))\n",
    "        users.append(u)\n",
    "        for i in range(len(use)):\n",
    "            if(u.areLinked(use[i])):\n",
    "                adj[i].append(u)\n",
    "                adj[u.graphIndex].append(i)"
   ]
  },
  {
   "cell_type": "code",
   "execution_count": null,
   "metadata": {},
   "outputs": [],
   "source": []
  },
  {
   "cell_type": "code",
   "execution_count": null,
   "metadata": {},
   "outputs": [],
   "source": []
  }
 ],
 "metadata": {
  "kernelspec": {
   "display_name": "Python 3",
   "language": "python",
   "name": "python3"
  },
  "language_info": {
   "codemirror_mode": {
    "name": "ipython",
    "version": 3
   },
   "file_extension": ".py",
   "mimetype": "text/x-python",
   "name": "python",
   "nbconvert_exporter": "python",
   "pygments_lexer": "ipython3",
   "version": "3.8.5"
  }
 },
 "nbformat": 4,
 "nbformat_minor": 4
}
