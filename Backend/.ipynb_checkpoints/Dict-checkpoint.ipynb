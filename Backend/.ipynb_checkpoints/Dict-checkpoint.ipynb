{
 "cells": [
  {
   "cell_type": "code",
   "execution_count": 1,
   "metadata": {},
   "outputs": [],
   "source": [
    "d = { 'sex' : ['m', 'f'],     \n",
    "     'status' : ['single', 'seeing someone'],\n",
    "    'orientation' : ['straight', 'gay'],     \n",
    "     'body_type' : ['skinny', 'thin', 'average', 'fit', 'athletic', 'curvy', 'a little extra', 'full figured', 'jacked'],\n",
    "    'diet' : ['strictly other', 'mostly other', 'other', 'strictly vegetarian', 'mostly vegetarian', 'vegetarian', \n",
    "              'strictly anything', 'mostly anything', 'anything'],     \n",
    "     'drinks' : ['not at all', 'rarely', 'socially', 'often', 'desperately'],\n",
    "    'drugs' : ['never', 'sometimes'],     \n",
    "     'education' : ['high school', 'graduated from high school','working on college/university', \n",
    "                    'graduated from college/university', 'working on masters program', 'graduated from masters program',\n",
    "                   'graduated from ph.d program', 'working on ph.d program', 'working on space camp', \n",
    "                    'dropped out of space camp', 'graduated from space camp'],\n",
    "    'ethnicity' : ['white', 'native', 'middle', 'hispanic', 'black', 'asian', 'pacific', 'indian'],       \n",
    "     'job' : ['transportation', 'hospitality', 'student', 'artistic', 'computer', 'science', 'banking', 'sales', \n",
    "                    'medicine', 'executive', 'clerical', 'construction', 'political', 'law', 'education', 'military'],\n",
    "    'offspring' : [\"doesn't want\", \"might want\", \"doesn't have kids\", \"has\", \"wants\"],     \n",
    "     'pets' : [\"likes dogs and cats\", \"likes dogs\", \"likes cats\", \"has dog\", \"has cat\"],\n",
    "    'religion' : ['agnostic', 'atheism', 'buddhism', 'catholicism'],     \n",
    "     'smokes' : [\"no\",\"trying to quit\", \"sometimes\", \"when drinking\", \"yes\"],\n",
    "    'speaks' : [\"english\", \"spanish\", \"french\", \"german\", \"sign language\", \"italian\", \"japanese\", \"russian\", \"gujarati\", \n",
    "                \"hindi\", \"chinese\", \"sanskrit\", \"portuguese\"]}"
   ]
  },
  {
   "cell_type": "code",
   "execution_count": null,
   "metadata": {},
   "outputs": [],
   "source": []
  }
 ],
 "metadata": {
  "kernelspec": {
   "display_name": "Python 3",
   "language": "python",
   "name": "python3"
  },
  "language_info": {
   "codemirror_mode": {
    "name": "ipython",
    "version": 3
   },
   "file_extension": ".py",
   "mimetype": "text/x-python",
   "name": "python",
   "nbconvert_exporter": "python",
   "pygments_lexer": "ipython3",
   "version": "3.8.5"
  }
 },
 "nbformat": 4,
 "nbformat_minor": 4
}
