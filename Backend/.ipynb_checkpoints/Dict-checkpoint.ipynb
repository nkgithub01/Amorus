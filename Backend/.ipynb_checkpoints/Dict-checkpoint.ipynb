{
 "cells": [
  {
   "cell_type": "code",
   "execution_count": 7,
   "metadata": {},
   "outputs": [
    {
     "name": "stdout",
     "output_type": "stream",
     "text": [
      "{'sex': ['male', 'female'], 'status': ['single', 'seeing someone'], 'sexual orientation': ['straight', 'gay'], 'body_type': ['skinny', 'thin', 'average', 'fit', 'athletic', 'curvy', 'a little extra', 'full figured', 'jacked'], 'diet': ['strictly other', 'mostly other', 'other', 'strictly vegetarian', 'mostly vegetarian', 'vegetarian', 'strictly anything', 'mostly anything', 'anything'], 'drinks': ['not at all', 'rarely', 'socially', 'often', 'desperately'], 'drugs': ['never', 'sometimes'], 'education': ['high school', 'dropped out', 'working', 'graduated'], 'ethniciy': ['white', 'native', 'middle', 'hispanic', 'black', 'asian', 'pacific', 'indian'], 'job title': ['transportation', 'hospitality', 'student', 'artistic', 'computer', 'science', 'banking', 'sales', 'medicine', 'executive', 'clerical', 'construction', 'political', 'law', 'education', 'military'], 'offspring': [\"doesn't want\", 'might want', \"doesn't have kids\", 'has', 'wants'], 'pets': ['likes dogs and cats', 'likes dogs', 'likes cats', 'has dog', 'has cat'], 'religion': ['agnostic', 'atheism', 'buddhism', 'catholicism', 'very serious', 'somewhat serious', 'not too serious', 'laughing'], 'smokes': ['no', 'trying to quit', 'sometimes', 'when drinking', 'yes'], 'speaks': ['english', 'spanish', 'french', 'german', 'sign language', 'italian', 'japanese', 'russian', 'gujarati', 'hindi', 'chinese', 'sanskrit', 'portuguese']}\n"
     ]
    }
   ],
   "source": [
    "d = { 'sex' : ['male', 'female'],     \n",
    "     'status' : ['single', 'seeing someone'],\n",
    "    'sexual orientation' : ['straight', 'gay'],     \n",
    "     'body_type' : ['skinny', 'thin', 'average', 'fit', 'athletic', 'curvy', 'a little extra', 'full figured', 'jacked'],\n",
    "    'diet' : ['strictly other', 'mostly other', 'other', 'strictly vegetarian', 'mostly vegetarian', 'vegetarian', \n",
    "              'strictly anything', 'mostly anything', 'anything'],     \n",
    "     'drinks' : ['not at all', 'rarely', 'socially', 'often', 'desperately'],\n",
    "    'drugs' : ['never', 'sometimes'],     \n",
    "     'education' : ['high school', 'dropped out', 'working', 'graduated'],\n",
    "    'ethniciy' : ['white', 'native', 'middle', 'hispanic', 'black', 'asian', 'pacific', 'indian'],       \n",
    "     'job title' : ['transportation', 'hospitality', 'student', 'artistic', 'computer', 'science', 'banking', 'sales', \n",
    "                    'medicine', 'executive', 'clerical', 'construction', 'political', 'law', 'education', 'military'],\n",
    "    'offspring' : [\"doesn't want\", \"might want\", \"doesn't have kids\", \"has\", \"wants\"],     \n",
    "     'pets' : [\"likes dogs and cats\", \"likes dogs\", \"likes cats\", \"has dog\", \"has cat\"],\n",
    "    'religion' : ['agnostic', 'atheism', 'buddhism', 'catholicism', 'very serious', 'somewhat serious', \n",
    "                  'not too serious', 'laughing'],     \n",
    "     'smokes' : [\"no\",\"trying to quit\", \"sometimes\", \"when drinking\", \"yes\"],\n",
    "    'speaks' : [\"english\", \"spanish\", \"french\", \"german\", \"sign language\", \"italian\", \"japanese\", \"russian\", \"gujarati\", \n",
    "                \"hindi\", \"chinese\", \"sanskrit\", \"portuguese\"]}"
   ]
  },
  {
   "cell_type": "code",
   "execution_count": null,
   "metadata": {},
   "outputs": [],
   "source": []
  }
 ],
 "metadata": {
  "kernelspec": {
   "display_name": "Python 3",
   "language": "python",
   "name": "python3"
  },
  "language_info": {
   "codemirror_mode": {
    "name": "ipython",
    "version": 3
   },
   "file_extension": ".py",
   "mimetype": "text/x-python",
   "name": "python",
   "nbconvert_exporter": "python",
   "pygments_lexer": "ipython3",
   "version": "3.8.5"
  }
 },
 "nbformat": 4,
 "nbformat_minor": 4
}
