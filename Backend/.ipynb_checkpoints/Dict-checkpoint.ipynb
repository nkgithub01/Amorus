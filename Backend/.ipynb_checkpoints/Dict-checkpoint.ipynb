{
 "cells": [
  {
   "cell_type": "code",
   "execution_count": 2,
   "metadata": {},
   "outputs": [],
   "source": [
    "d = { 'sex' : ['m', 'f'],     \n",
    "     'status' : ['single', 'seeing someone'],\n",
    "    'orientation' : ['straight', 'gay'],     \n",
    "     'body_type' : ['skinny', 'thin', 'average', 'fit', 'athletic', 'curvy', 'a little extra', 'full figured', 'jacked'],\n",
    "    'diet' : ['strictly other', 'mostly other', 'other', 'strictly vegetarian', 'mostly vegetarian', 'vegetarian', \n",
    "              'strictly anything', 'mostly anything', 'anything'],     \n",
    "     'drinks' : ['not at all', 'rarely', 'socially', 'often', 'desperately'],\n",
    "    'drugs' : ['never', 'sometimes'],     \n",
    "     'education' : ['high school', 'graduated from high school','working on college/university', \n",
    "                    'graduated from college/university', 'working on masters program', 'graduated from masters program',\n",
    "                    'working on ph.d program', 'graduated from ph.d program', 'dropped out of space camp',\n",
    "                    'working on space camp', 'graduated from space camp'],\n",
    "    'ethnicity' : ['white', 'native', 'middle', 'hispanic', 'black', 'asian', 'pacific', 'indian'],       \n",
    "     'job' : ['transportation', 'hospitality', 'student', 'artistic', 'computer', 'science', 'banking', 'sales', \n",
    "                    'medicine', 'executive', 'clerical', 'construction', 'political', 'law', 'education', 'military'],\n",
    "    'offspring' : [\"doesn't want\", \"might want\", \"doesn't have kids\", \"has\", \"wants\"],     \n",
    "     'pets' : [\"likes dogs and cats\", \"likes dogs\", \"likes cats\", \"has dog\", \"has cat\"],\n",
    "    'religion' : ['agnosticism and laughing about it', 'agnosticism but not too serious about it', \n",
    "                  'agnosticism and somewhat serious about it', 'agnosticism and very serious about it', 'agnosticism', \n",
    "                  'atheism and laughing about it', 'atheism but not too serious about it', \n",
    "                  'atheism and somewhat serious about it', 'atheism and very serious about it', 'atheism', \n",
    "                  'christianity and laughing about it', 'christianity but not too serious about it', \n",
    "                  'christianity and somewhat serious about it', 'christianity and very serious about it', 'christianity',\n",
    "                  'catholicism and laughing about it', 'catholicism but not too serious about it', \n",
    "                  'catholicism and somewhat serious about it', 'catholicism and very serious about it', 'catholicism',\n",
    "                  'buddhism and laughing about it', 'buddhism but not too serious about it', \n",
    "                  'buddhism and somewhat serious about it', 'buddhism and very serious about it', 'buddhism',\n",
    "                  'judaism and laughing about it', 'judaism but not too serious about it', \n",
    "                  'judaism and somewhat serious about it', 'judaism and very serious about it', 'judaism',\n",
    "                  'hinduism and laughing about it', 'hinduism but not too serious about it', \n",
    "                  'hinduism and somewhat serious about it', 'hinduism and very serious about it', 'hinduism'\n",
    "                  'other and laughing about it', 'other but not too serious about it', \n",
    "                  'other and somewhat serious about it', 'other and very serious about it', 'other'],     \n",
    "     'smokes' : [\"no\",\"trying to quit\", \"sometimes\", \"when drinking\", \"yes\"],\n",
    "    'speaks' : [\"english\", \"spanish\", \"french\", \"german\", \"sign language\", \"italian\", \"japanese\", \"russian\", \"gujarati\", \n",
    "                \"hindi\", \"chinese\", \"sanskrit\", \"portuguese\"]}"
   ]
  },
  {
   "cell_type": "code",
   "execution_count": null,
   "metadata": {},
   "outputs": [],
   "source": []
  }
 ],
 "metadata": {
  "kernelspec": {
   "display_name": "Python 3",
   "language": "python",
   "name": "python3"
  },
  "language_info": {
   "codemirror_mode": {
    "name": "ipython",
    "version": 3
   },
   "file_extension": ".py",
   "mimetype": "text/x-python",
   "name": "python",
   "nbconvert_exporter": "python",
   "pygments_lexer": "ipython3",
   "version": "3.8.5"
  }
 },
 "nbformat": 4,
 "nbformat_minor": 4
}
